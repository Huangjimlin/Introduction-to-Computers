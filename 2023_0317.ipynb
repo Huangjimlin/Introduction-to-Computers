{
  "nbformat": 4,
  "nbformat_minor": 0,
  "metadata": {
    "colab": {
      "provenance": [],
      "authorship_tag": "ABX9TyPT/7WRKvfIfcMIaFKV2s41",
      "include_colab_link": true
    },
    "kernelspec": {
      "name": "python3",
      "display_name": "Python 3"
    },
    "language_info": {
      "name": "python"
    }
  },
  "cells": [
    {
      "cell_type": "markdown",
      "metadata": {
        "id": "view-in-github",
        "colab_type": "text"
      },
      "source": [
        "<a href=\"https://colab.research.google.com/github/Huangjimlin/Introduction-to-Computers/blob/main/2023_0317.ipynb\" target=\"_parent\"><img src=\"https://colab.research.google.com/assets/colab-badge.svg\" alt=\"Open In Colab\"/></a>"
      ]
    },
    {
      "cell_type": "code",
      "execution_count": null,
      "metadata": {
        "colab": {
          "base_uri": "https://localhost:8080/"
        },
        "id": "CD39-gQMjcrG",
        "outputId": "a1a0666d-e42a-4186-d3f7-f2461571ae7d"
      },
      "outputs": [
        {
          "output_type": "execute_result",
          "data": {
            "text/plain": [
              "False"
            ]
          },
          "metadata": {},
          "execution_count": 1
        }
      ],
      "source": [
        "5>10"
      ]
    },
    {
      "cell_type": "code",
      "source": [
        "a=10\n",
        "b=a \n",
        "a is b"
      ],
      "metadata": {
        "colab": {
          "base_uri": "https://localhost:8080/"
        },
        "id": "u-03z_Bljjp0",
        "outputId": "d51e4a8e-7ccf-4404-c130-d9253f60dd50"
      },
      "execution_count": null,
      "outputs": [
        {
          "output_type": "execute_result",
          "data": {
            "text/plain": [
              "True"
            ]
          },
          "metadata": {},
          "execution_count": 2
        }
      ]
    },
    {
      "cell_type": "code",
      "source": [
        "a = 10\n",
        "b = 20\n",
        "c = 30\n",
        "\n",
        "print((a > b) and (b < c))\n",
        "print((a > b) or (b < c))"
      ],
      "metadata": {
        "colab": {
          "base_uri": "https://localhost:8080/"
        },
        "id": "Jmul3s4KjsqX",
        "outputId": "c95af168-fe00-456b-d491-8ff4b07200ed"
      },
      "execution_count": null,
      "outputs": [
        {
          "output_type": "stream",
          "name": "stdout",
          "text": [
            "False\n",
            "True\n"
          ]
        }
      ]
    },
    {
      "cell_type": "code",
      "source": [
        "\n",
        "a=10\n",
        "b=15\n",
        "if  a>b:\n",
        "        print('a大於b')\n",
        "else:\n",
        "        print('a小於b')                      "
      ],
      "metadata": {
        "colab": {
          "base_uri": "https://localhost:8080/"
        },
        "id": "vCwyzJXxkiSr",
        "outputId": "5843d567-3a90-4ae9-8f88-b21876d639eb"
      },
      "execution_count": 27,
      "outputs": [
        {
          "output_type": "stream",
          "name": "stdout",
          "text": [
            "a小於b\n"
          ]
        }
      ]
    },
    {
      "cell_type": "code",
      "source": [
        "c=100\n",
        "d=50\n",
        "if  c>d:\n",
        "        print('正確')\n",
        "else:\n",
        "        print('錯誤')  "
      ],
      "metadata": {
        "id": "W4gvTSR30ZXU",
        "colab": {
          "base_uri": "https://localhost:8080/"
        },
        "outputId": "b4c32c24-a4cb-474d-a651-39e79bcb3a66"
      },
      "execution_count": 28,
      "outputs": [
        {
          "output_type": "stream",
          "name": "stdout",
          "text": [
            "正確\n"
          ]
        }
      ]
    }
  ]
}